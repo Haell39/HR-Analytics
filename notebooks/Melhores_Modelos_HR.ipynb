{
 "cells": [
  {
   "cell_type": "code",
   "id": "initial_id",
   "metadata": {
    "collapsed": true,
    "ExecuteTime": {
     "end_time": "2025-07-11T23:17:08.978950Z",
     "start_time": "2025-07-11T23:17:08.610141Z"
    }
   },
   "source": [
    "import pandas as pd\n",
    "import numpy as np\n",
    "import matplotlib.pyplot as plt\n",
    "import seaborn as sns\n",
    "import joblib\n",
    "import os\n",
    "\n",
    "# Modelos do Scikit-learn\n",
    "from sklearn.ensemble import RandomForestClassifier\n",
    "from sklearn.model_selection import GridSearchCV, StratifiedKFold\n",
    "from sklearn.metrics import classification_report, confusion_matrix, accuracy_score, precision_score, recall_score, f1_score\n",
    "\n",
    "# Modelo XGBoost\n",
    "import xgboost as xgb"
   ],
   "outputs": [],
   "execution_count": 1
  },
  {
   "metadata": {
    "ExecuteTime": {
     "end_time": "2025-07-11T23:21:45.510065Z",
     "start_time": "2025-07-11T23:21:45.473893Z"
    }
   },
   "cell_type": "code",
   "source": [
    "print(\"Iniciando o carregamento dos dados de treino e teste...\")\n",
    "\n",
    "try:\n",
    "    X_train = pd.read_csv('../data/processed/X_train.csv')\n",
    "    X_test = pd.read_csv('../data/processed/X_test.csv')\n",
    "    y_train = pd.read_csv('../data/processed/y_train.csv').squeeze()\n",
    "    y_test = pd.read_csv('../data/processed/y_test.csv').squeeze()\n",
    "    print(\"Dados de treino e teste carregados com sucesso.\")\n",
    "except FileNotFoundError:\n",
    "    print(\"Erro: Arquivos de dados (X_train.csv, X_test.csv, y_train.csv, y_test.csv) não encontrados em '../data/processed/'.\")\n",
    "    print(\"Por favor, execute o notebook 'Pre_processamento_HR.ipynb' primeiro para gerar esses arquivos.\")\n",
    "    exit()\n",
    "\n",
    "print(f\"Shape de X_train: {X_train.shape}\")\n",
    "print(f\"Shape de X_test: {X_test.shape}\")\n",
    "print(f\"Shape de y_train: {y_train.shape}\")\n",
    "print(f\"Shape de y_test: {y_test.shape}\")\n"
   ],
   "id": "52ed2115494446f9",
   "outputs": [
    {
     "name": "stdout",
     "output_type": "stream",
     "text": [
      "Iniciando o carregamento dos dados de treino e teste...\n",
      "Dados de treino e teste carregados com sucesso.\n",
      "Shape de X_train: (1849, 50)\n",
      "Shape de X_test: (617, 50)\n",
      "Shape de y_train: (1849,)\n",
      "Shape de y_test: (617,)\n"
     ]
    }
   ],
   "execution_count": 2
  },
  {
   "metadata": {},
   "cell_type": "markdown",
   "source": "### Função para avaliação",
   "id": "a0ed6778bb4c934"
  },
  {
   "metadata": {
    "ExecuteTime": {
     "end_time": "2025-07-11T23:24:51.494174Z",
     "start_time": "2025-07-11T23:24:51.487173Z"
    }
   },
   "cell_type": "code",
   "source": [
    "def evaluate_model(model_name, y_true, y_pred, y_pred_proba=None):\n",
    "    print(f\"--- Avaliação do Modelo: {model_name} ---\")\n",
    "    print(\"\\nRelatório de Classificação:\")\n",
    "    print(classification_report(y_true, y_pred))\n",
    "\n",
    "    print(\"\\nMatriz de Confusão:\")\n",
    "    cm = confusion_matrix(y_true, y_pred)\n",
    "    plt.figure(figsize=(6, 5))\n",
    "    sns.heatmap(cm, annot=True, fmt='d', cmap='Blues', cbar=False,\n",
    "                xticklabels=['Ficou (0)', 'Saiu (1)'],\n",
    "                yticklabels=['Ficou (0)', 'Saiu (1)'])\n",
    "    plt.title(f'Matriz de Confusão para {model_name}')\n",
    "    plt.xlabel('Predito')\n",
    "    plt.ylabel('Real')\n",
    "    plt.show()\n",
    "\n",
    "    accuracy = accuracy_score(y_true, y_pred)\n",
    "    precision = precision_score(y_true, y_pred)\n",
    "    recall = recall_score(y_true, y_pred)\n",
    "    f1 = f1_score(y_true, y_pred)\n",
    "\n",
    "    print(f\"Acurácia: {accuracy:.4f}\")\n",
    "    print(f\"Precisão: {precision:.4f}\")\n",
    "    print(f\"Recall: {recall:.4f}\")\n",
    "    print(f\"F1-Score: {f1:.4f}\")\n",
    "    print(\"-\" * 50)\n"
   ],
   "id": "3172ed50730f8881",
   "outputs": [],
   "execution_count": 3
  },
  {
   "metadata": {},
   "cell_type": "markdown",
   "source": "## 2 Melhores Modelos",
   "id": "3facb52ec15020c8"
  },
  {
   "metadata": {},
   "cell_type": "markdown",
   "source": "### Modelo 1: Random Forest Classifier",
   "id": "ea6f616c15ff86ac"
  },
  {
   "metadata": {
    "ExecuteTime": {
     "end_time": "2025-07-11T23:25:24.490356Z",
     "start_time": "2025-07-11T23:25:04.318148Z"
    }
   },
   "cell_type": "code",
   "source": [
    "print(\"\\n--- Treinamento e Otimização do Modelo Random Forest ---\")\n",
    "\n",
    "param_grid_rf = {\n",
    "    'n_estimators': [100, 200, 300],\n",
    "    'max_depth': [None, 10, 20],\n",
    "    'min_samples_split': [2, 5],\n",
    "    'min_samples_leaf': [1, 2]\n",
    "}\n",
    "\n",
    "grid_search_rf = GridSearchCV(\n",
    "    estimator=RandomForestClassifier(random_state=42),\n",
    "    param_grid=param_grid_rf,\n",
    "    cv=StratifiedKFold(n_splits=5, shuffle=True, random_state=42),\n",
    "    scoring='f1',\n",
    "    n_jobs=-1,\n",
    "    verbose=1\n",
    ")\n",
    "\n",
    "print(\"Iniciando treinamento e otimização para Random Forest...\")\n",
    "grid_search_rf.fit(X_train, y_train)\n",
    "\n",
    "best_rf_model = grid_search_rf.best_estimator_\n",
    "print(f\"Melhores parâmetros para Random Forest: {grid_search_rf.best_params_}\")\n",
    "\n",
    "y_pred_rf = best_rf_model.predict(X_test)\n",
    "y_pred_proba_rf = best_rf_model.predict_proba(X_test)[:, 1]\n",
    "evaluate_model(\"Random Forest Classifier Otimizado\", y_test, y_pred_rf, y_pred_proba_rf)\n",
    "\n",
    "# Salvando o modelo\n",
    "output_models_dir = '../models'\n",
    "if not os.path.exists(output_models_dir):\n",
    "    os.makedirs(output_models_dir)\n",
    "joblib.dump(best_rf_model, os.path.join(output_models_dir, 'melhor_random_forest.pkl'))\n",
    "print(f\"Melhor modelo Random Forest salvo em: {os.path.join(output_models_dir, 'melhor_random_forest.pkl')}\")"
   ],
   "id": "10c539d0bb075b71",
   "outputs": [
    {
     "name": "stdout",
     "output_type": "stream",
     "text": [
      "\n",
      "--- Treinamento e Otimização do Modelo Random Forest ---\n",
      "Iniciando treinamento e otimização para Random Forest...\n",
      "Fitting 5 folds for each of 36 candidates, totalling 180 fits\n",
      "Melhores parâmetros para Random Forest: {'max_depth': None, 'min_samples_leaf': 1, 'min_samples_split': 2, 'n_estimators': 200}\n",
      "--- Avaliação do Modelo: Random Forest Classifier Otimizado ---\n",
      "\n",
      "Relatório de Classificação:\n",
      "              precision    recall  f1-score   support\n",
      "\n",
      "           0       0.90      0.95      0.93       309\n",
      "           1       0.95      0.90      0.92       308\n",
      "\n",
      "    accuracy                           0.92       617\n",
      "   macro avg       0.93      0.92      0.92       617\n",
      "weighted avg       0.93      0.92      0.92       617\n",
      "\n",
      "\n",
      "Matriz de Confusão:\n"
     ]
    },
    {
     "data": {
      "text/plain": [
       "<Figure size 600x500 with 1 Axes>"
      ],
      "image/png": "[encoded data removed]"
     },
     "metadata": {},
     "output_type": "display_data"
    },
    {
     "name": "stdout",
     "output_type": "stream",
     "text": [
      "Acurácia: 0.9238\n",
      "Precisão: 0.9485\n",
      "Recall: 0.8961\n",
      "F1-Score: 0.9215\n",
      "--------------------------------------------------\n",
      "Melhor modelo Random Forest salvo em: ../models\\melhor_random_forest.pkl\n"
     ]
    }
   ],
   "execution_count": 4
  },
  {
   "metadata": {},
   "cell_type": "markdown",
   "source": "### Modelo 2: XGBoost Classifier",
   "id": "c2d91777f5905cee"
  },
  {
   "metadata": {
    "ExecuteTime": {
     "end_time": "2025-07-11T23:26:52.850907Z",
     "start_time": "2025-07-11T23:26:46.375968Z"
    }
   },
   "cell_type": "code",
   "source": [
    "print(\"\\n--- Treinamento e Otimização do Modelo XGBoost ---\")\n",
    "\n",
    "param_grid_xgb = {\n",
    "    'n_estimators': [100, 200],\n",
    "    'learning_rate': [0.05, 0.1],\n",
    "    'max_depth': [3, 5],\n",
    "    'subsample': [0.7, 0.9],\n",
    "    'colsample_bytree': [0.7, 0.9]\n",
    "}\n",
    "\n",
    "# obs: vou remover o 'use_label_encoder=False' para evitar o UserWarning\n",
    "grid_search_xgb = GridSearchCV(\n",
    "    estimator=xgb.XGBClassifier(objective='binary:logistic', eval_metric='logloss', random_state=42),\n",
    "    param_grid=param_grid_xgb,\n",
    "    cv=StratifiedKFold(n_splits=5, shuffle=True, random_state=42),\n",
    "    scoring='f1',\n",
    "    n_jobs=-1,\n",
    "    verbose=1\n",
    ")\n",
    "\n",
    "print(\"Iniciando treinamento e otimização para XGBoost...\")\n",
    "grid_search_xgb.fit(X_train, y_train)\n",
    "\n",
    "best_xgb_model = grid_search_xgb.best_estimator_\n",
    "print(f\"Melhores parâmetros para XGBoost: {grid_search_xgb.best_params_}\")\n",
    "\n",
    "\n",
    "y_pred_xgb = best_xgb_model.predict(X_test)\n",
    "y_pred_proba_xgb = best_xgb_model.predict_proba(X_test)[:, 1]\n",
    "evaluate_model(\"XGBoost Classifier Otimizado\", y_test, y_pred_xgb, y_pred_proba_xgb)\n",
    "\n",
    "# salvando o modelo\n",
    "output_models_dir = '../models'\n",
    "if not os.path.exists(output_models_dir):\n",
    "    os.makedirs(output_models_dir)\n",
    "joblib.dump(best_xgb_model, os.path.join(output_models_dir, 'melhor_xgboost.pkl'))\n",
    "print(f\"Melhor modelo XGBoost salvo em: {os.path.join(output_models_dir, 'melhor_xgboost.pkl')}\")"
   ],
   "id": "53d88b276ed7e2db",
   "outputs": [
    {
     "name": "stdout",
     "output_type": "stream",
     "text": [
      "\n",
      "--- Treinamento e Otimização do Modelo XGBoost ---\n",
      "Iniciando treinamento e otimização para XGBoost...\n",
      "Fitting 5 folds for each of 32 candidates, totalling 160 fits\n",
      "Melhores parâmetros para XGBoost: {'colsample_bytree': 0.7, 'learning_rate': 0.05, 'max_depth': 5, 'n_estimators': 200, 'subsample': 0.9}\n",
      "--- Avaliação do Modelo: XGBoost Classifier Otimizado ---\n",
      "\n",
      "Relatório de Classificação:\n",
      "              precision    recall  f1-score   support\n",
      "\n",
      "           0       0.91      0.96      0.93       309\n",
      "           1       0.96      0.90      0.93       308\n",
      "\n",
      "    accuracy                           0.93       617\n",
      "   macro avg       0.93      0.93      0.93       617\n",
      "weighted avg       0.93      0.93      0.93       617\n",
      "\n",
      "\n",
      "Matriz de Confusão:\n"
     ]
    },
    {
     "data": {
      "text/plain": [
       "<Figure size 600x500 with 1 Axes>"
      ],
      "image/png": "[encoded data removed]"
     },
     "metadata": {},
     "output_type": "display_data"
    },
    {
     "name": "stdout",
     "output_type": "stream",
     "text": [
      "Acurácia: 0.9287\n",
      "Precisão: 0.9552\n",
      "Recall: 0.8994\n",
      "F1-Score: 0.9264\n",
      "--------------------------------------------------\n",
      "Melhor modelo XGBoost salvo em: ../models\\melhor_xgboost.pkl\n"
     ]
    }
   ],
   "execution_count": 5
  },
  {
   "metadata": {},
   "cell_type": "markdown",
   "source": "## Testando Previsões com os Modelos Salvos em Exemplos Aleatórios",
   "id": "23dccb096c91b11c"
  },
  {
   "metadata": {
    "ExecuteTime": {
     "end_time": "2025-07-11T23:30:40.548016Z",
     "start_time": "2025-07-11T23:30:40.480834Z"
    }
   },
   "cell_type": "code",
   "source": [
    "''' Carregando os modelos '''\n",
    "\n",
    "print(\"\\n--- Carregando modelos salvos para demonstração de previsão ---\")\n",
    "try:\n",
    "    loaded_rf_model = joblib.load('../models/melhor_random_forest.pkl')\n",
    "    loaded_xgb_model = joblib.load('../models/melhor_xgboost.pkl')\n",
    "    print(\"Modelos Random Forest e XGBoost carregados com sucesso para previsão.\")\n",
    "except FileNotFoundError as e:\n",
    "    print(f\"Erro ao carregar modelos para previsão: {e}. Certifique-se de que a célula de salvamento foi executada.\")\n",
    "    exit()"
   ],
   "id": "76a3b30d273283f",
   "outputs": [
    {
     "name": "stdout",
     "output_type": "stream",
     "text": [
      "\n",
      "--- Carregando modelos salvos para demonstração de previsão ---\n",
      "Modelos Random Forest e XGBoost carregados com sucesso para previsão.\n"
     ]
    }
   ],
   "execution_count": 6
  },
  {
   "metadata": {
    "ExecuteTime": {
     "end_time": "2025-07-11T23:31:47.703001Z",
     "start_time": "2025-07-11T23:31:47.697718Z"
    }
   },
   "cell_type": "code",
   "source": [
    "''' Função de demonstração '''\n",
    "\n",
    "def testar_previsao_modelo_em_exemplos(modelo, nome_modelo, X_data, y_true, num_exemplos=5):\n",
    "    print(f\"\\n--- Demonstração de Previsão com {nome_modelo} ---\")\n",
    "\n",
    "    if len(X_data) < num_exemplos:\n",
    "        print(f\"Número de exemplos para testar ({num_exemplos}) é maior que o tamanho do dataset ({len(X_data)}). Testando todos os exemplos disponíveis.\")\n",
    "        random_indices = X_data.index.values\n",
    "    else:\n",
    "        random_indices = np.random.choice(X_data.index.values, num_exemplos, replace=False)\n",
    "\n",
    "    for i, idx in enumerate(random_indices):\n",
    "        sample_X = X_data.loc[[idx]]\n",
    "        true_y = y_true.loc[idx]\n",
    "\n",
    "        pred_class = modelo.predict(sample_X)[0] # [0] ==> escalar valor\n",
    "        pred_proba = modelo.predict_proba(sample_X)[0, 1] # (churn)\n",
    "\n",
    "        print(f\"\\nExemplo {i+1} (Índice Original no X_test: {idx}):\")\n",
    "        print(f\"  Modelo: {nome_modelo}\")\n",
    "        print(f\"  Previsão (0=Fica, 1=Sai): {pred_class}\")\n",
    "        print(f\"  Probabilidade de Sair: {pred_proba:.4f}\")\n",
    "        print(f\"  Valor Real (0=Ficou, 1=Saiu): {true_y}\")\n",
    "\n",
    "        if pred_class == true_y:\n",
    "            print(\"  Resultado: PREVISÃO CORRETA!\")\n",
    "        else:\n",
    "            print(\"  Resultado: PREVISÃO INCORRETA.\")\n"
   ],
   "id": "859663c9fe41f99d",
   "outputs": [],
   "execution_count": 7
  },
  {
   "metadata": {
    "ExecuteTime": {
     "end_time": "2025-07-11T23:32:24.585302Z",
     "start_time": "2025-07-11T23:32:24.414336Z"
    }
   },
   "cell_type": "code",
   "source": [
    "''' Teste dos modelos com exemplos aleatórios '''\n",
    "\n",
    "# Testando o Random Forest\n",
    "testar_previsao_modelo_em_exemplos(loaded_rf_model, \"Random Forest Carregado\", X_test, y_test, num_exemplos=5)\n",
    "\n",
    "# Testando o XGBoost\n",
    "testar_previsao_modelo_em_exemplos(loaded_xgb_model, \"XGBoost Carregado\", X_test, y_test, num_exemplos=5)"
   ],
   "id": "b20281e0cacbdd18",
   "outputs": [
    {
     "name": "stdout",
     "output_type": "stream",
     "text": [
      "\n",
      "--- Demonstração de Previsão com Random Forest Carregado ---\n",
      "\n",
      "Exemplo 1 (Índice Original no X_test: 431):\n",
      "  Modelo: Random Forest Carregado\n",
      "  Previsão (0=Fica, 1=Sai): 0\n",
      "  Probabilidade de Sair: 0.2600\n",
      "  Valor Real (0=Ficou, 1=Saiu): 0\n",
      "  Resultado: PREVISÃO CORRETA!\n",
      "\n",
      "Exemplo 2 (Índice Original no X_test: 473):\n",
      "  Modelo: Random Forest Carregado\n",
      "  Previsão (0=Fica, 1=Sai): 0\n",
      "  Probabilidade de Sair: 0.2400\n",
      "  Valor Real (0=Ficou, 1=Saiu): 0\n",
      "  Resultado: PREVISÃO CORRETA!\n",
      "\n",
      "Exemplo 3 (Índice Original no X_test: 30):\n",
      "  Modelo: Random Forest Carregado\n",
      "  Previsão (0=Fica, 1=Sai): 0\n",
      "  Probabilidade de Sair: 0.3650\n",
      "  Valor Real (0=Ficou, 1=Saiu): 0\n",
      "  Resultado: PREVISÃO CORRETA!\n",
      "\n",
      "Exemplo 4 (Índice Original no X_test: 420):\n",
      "  Modelo: Random Forest Carregado\n",
      "  Previsão (0=Fica, 1=Sai): 0\n",
      "  Probabilidade de Sair: 0.4450\n",
      "  Valor Real (0=Ficou, 1=Saiu): 0\n",
      "  Resultado: PREVISÃO CORRETA!\n",
      "\n",
      "Exemplo 5 (Índice Original no X_test: 606):\n",
      "  Modelo: Random Forest Carregado\n",
      "  Previsão (0=Fica, 1=Sai): 1\n",
      "  Probabilidade de Sair: 0.8300\n",
      "  Valor Real (0=Ficou, 1=Saiu): 1\n",
      "  Resultado: PREVISÃO CORRETA!\n",
      "\n",
      "--- Demonstração de Previsão com XGBoost Carregado ---\n",
      "\n",
      "Exemplo 1 (Índice Original no X_test: 171):\n",
      "  Modelo: XGBoost Carregado\n",
      "  Previsão (0=Fica, 1=Sai): 1\n",
      "  Probabilidade de Sair: 0.9974\n",
      "  Valor Real (0=Ficou, 1=Saiu): 1\n",
      "  Resultado: PREVISÃO CORRETA!\n",
      "\n",
      "Exemplo 2 (Índice Original no X_test: 106):\n",
      "  Modelo: XGBoost Carregado\n",
      "  Previsão (0=Fica, 1=Sai): 0\n",
      "  Probabilidade de Sair: 0.0201\n",
      "  Valor Real (0=Ficou, 1=Saiu): 0\n",
      "  Resultado: PREVISÃO CORRETA!\n",
      "\n",
      "Exemplo 3 (Índice Original no X_test: 28):\n",
      "  Modelo: XGBoost Carregado\n",
      "  Previsão (0=Fica, 1=Sai): 1\n",
      "  Probabilidade de Sair: 0.9900\n",
      "  Valor Real (0=Ficou, 1=Saiu): 1\n",
      "  Resultado: PREVISÃO CORRETA!\n",
      "\n",
      "Exemplo 4 (Índice Original no X_test: 125):\n",
      "  Modelo: XGBoost Carregado\n",
      "  Previsão (0=Fica, 1=Sai): 0\n",
      "  Probabilidade de Sair: 0.4515\n",
      "  Valor Real (0=Ficou, 1=Saiu): 0\n",
      "  Resultado: PREVISÃO CORRETA!\n",
      "\n",
      "Exemplo 5 (Índice Original no X_test: 121):\n",
      "  Modelo: XGBoost Carregado\n",
      "  Previsão (0=Fica, 1=Sai): 1\n",
      "  Probabilidade de Sair: 0.9575\n",
      "  Valor Real (0=Ficou, 1=Saiu): 1\n",
      "  Resultado: PREVISÃO CORRETA!\n"
     ]
    }
   ],
   "execution_count": 8
  }
 ],
 "metadata": {
  "kernelspec": {
   "display_name": "Python 3",
   "language": "python",
   "name": "python3"
  },
  "language_info": {
   "codemirror_mode": {
    "name": "ipython",
    "version": 2
   },
   "file_extension": ".py",
   "mimetype": "text/x-python",
   "name": "python",
   "nbconvert_exporter": "python",
   "pygments_lexer": "ipython2",
   "version": "2.7.6"
  }
 },
 "nbformat": 4,
 "nbformat_minor": 5
}
